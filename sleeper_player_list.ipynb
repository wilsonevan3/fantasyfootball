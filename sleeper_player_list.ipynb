import requests
import pandas as pd

# Fetch data from the Sleeper API
url = 'https://api.sleeper.app/v1/players/nfl'
response = requests.get(url)
if response.status_code == 200:
    json = response.json()
else:
    print("Failed to return API Endpoint https://api.sleeper.app/v1/players/nfl")

# Convert the JSON data to a DataFrame
players = pd.DataFrame(json).T

# Select relevant columns
players = players[['player_id', 'full_name', 'status', 'age', 'height', 'position', 'college', 'years_exp', 'depth_chart_position',
                   'depth_chart_order', 'fantasy_positions', 'team', 'injury_notes', 'injury_body_part', 'injury_start_date', 'practice_participation']]
players = players.reset_index(drop=True)
players = players[players['status'] != 'Inactive']
positions_of_interest = ['QB', 'RB', 'WR']
players = players[players['position'].isin(positions_of_interest)]
