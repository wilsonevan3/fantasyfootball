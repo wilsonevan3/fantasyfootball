import requests
import pandas as pd
from bs4 import BeautifulSoup

# OTC Contracts Table
url = 'https://overthecap.com/contracts'

response = requests.get(url)

if response.status_code == 200:
    soup = BeautifulSoup(response.content, 'html.parser')
    
    # Main contracts table is a <table class = 'sortable controls-table'>
    table = soup.find('table', {'class': 'sortable controls-table'})
    headers = [header.text.strip() for header in table.find('thead').find_all('th')]
    
    rows = []
    for row in table.find('tbody').find_all('tr'):
        rows.append([cell.text.strip() for cell in row.find_all('td')])
    
    df = pd.DataFrame(rows, columns=headers)
    
    # Function to convert column names to snake_case
    def to_snake_case(column_name):
        return column_name.lower().replace(' ', '_').replace('#', 'number').replace('/', '_').replace('-', '_')
    
    # Rename DataFrame columns to snake_case
    df.columns = [to_snake_case(col) for col in df.columns]
    
else:
    print(f"Failed to retrieve the url: {url}.")
